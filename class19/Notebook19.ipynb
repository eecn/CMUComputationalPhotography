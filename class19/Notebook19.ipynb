{
 "cells": [
  {
   "cell_type": "code",
   "execution_count": null,
   "metadata": {},
   "outputs": [],
   "source": [
    "import cv2\n",
    "import numpy as np\n",
    "import matplotlib.pyplot as plt\n",
    "%matplotlib inline"
   ]
  },
  {
   "cell_type": "code",
   "execution_count": null,
   "metadata": {},
   "outputs": [],
   "source": [
    "sample=cv2.imread(\"./imgs/patch1.png\", cv2.IMREAD_GRAYSCALE)"
   ]
  },
  {
   "cell_type": "markdown",
   "metadata": {},
   "source": [
    "Below is the main psudo code, lets implement it.\n",
    "```\n",
    "function GrowImage(SampleImage,Image,WindowSize)\n",
    "  while Image not filled do\n",
    "    progress = 0\n",
    "    PixelList = GetUnfilledNeighbors(Image)\n",
    "    foreach Pixel in PixelList do\n",
    "      Template = GetNeighborhoodWindow(Pixel)\n",
    "      BestMatches = FindMatches(Template, SampleImage)\n",
    "      BestMatch = RandomPick(BestMatches)\n",
    "      if (BestMatch.error < MaxErrThreshold) then\n",
    "        Pixel.value = BestMatch.value\n",
    "        progress = 1\n",
    "      end\n",
    "    end\n",
    "    if progress == 0 \n",
    "      then MaxErrThreshold = MaxErrThreshold * 1.1\n",
    "  end\n",
    "  return Image\n",
    "end\n",
    "```"
   ]
  },
  {
   "cell_type": "code",
   "execution_count": null,
   "metadata": {},
   "outputs": [],
   "source": [
    "def growImg(imgSample, imgDst, imgMask, winSize):\n",
    "    while imgMask.size!=imgMask.sum():\n",
    "        progress = 0\n",
    "        pixelList = getUnfilledNeighbors(imgMask)\n",
    "        for pixel in pixelList:\n",
    "            imgTemplate = getNeighborhoodWindow(pixel, imgDst, winSize)\n",
    "            bestMatches = findMatches(imgTemplate, imgSample)\n",
    "            bestMatch   = randomPick(bestMatches)\n",
    "            if bestMatch[2] < maxErrThreshold:\n",
    "                imgDst[pixel[0], pixel[1]] = imgSample[bestMatch[0], bestMatch[1]]\n",
    "                imgMask[pixel[0], pixel[1]] = 1\n",
    "                progress = 1\n",
    "        if progress == 0:\n",
    "            maxErrThreshold = maxErrThreshold * 1.1\n",
    "    return imgDst"
   ]
  },
  {
   "cell_type": "code",
   "execution_count": null,
   "metadata": {},
   "outputs": [],
   "source": [
    "def getUnfilledNeighbors(imgMask):\n",
    "    kernel = np.ones((3,3), np.uint8)\n",
    "    kernel[1,1]=0\n",
    "    imgNeighbourCount=cv2.filter2D(mask, -1, kernel)\n",
    "\n",
    "    newmask = mask.copy()\n",
    "    newmask=cv2.dilate(newmask, kernel=())\n",
    "    roi = newmask - mask\n",
    "    result = imgNeighbourCount*roi\n",
    "    pixelList=[]\n",
    "    for i in range(result.shape[0]):\n",
    "        for j in range(result.shape[1]):\n",
    "            if result[i,j]!=0:\n",
    "                pixelList.append([i,j])\n",
    "    \n",
    "    return result, pixelList\n",
    "\n",
    "def testGetUnfilledNeighbors():\n",
    "    mask = np.zeros((51,51), np.uint8)\n",
    "    mask[11:31, 11:31]=1\n",
    "    result,pixelList = getUnfilledNeighbors(mask)\n",
    "    plt.imshow(result)\n",
    "    plt.show()\n",
    "    if result[10,10]!=1 or result[31,31]!=1 or result[31,10]!=1 or result[10, 31]!=1:\n",
    "        print(\"Test Failed For Corners\")\n",
    "        return False\n",
    "    elif result[20,20]!=0:\n",
    "        print(\"Test Faield For Center\")\n",
    "        return False\n",
    "    elif result[10, 20]!=3:\n",
    "        print(\"Test Failed For Top\")\n",
    "        return False\n",
    "    else:\n",
    "        return True\n",
    "    \n",
    "testGetUnfilledNeighbors()\n"
   ]
  },
  {
   "cell_type": "code",
   "execution_count": null,
   "metadata": {},
   "outputs": [],
   "source": [
    "def getNeighborhoodWindow(pixel, imgDst, winSize):\n",
    "    i=pixel[0]\n",
    "    j=pixel[1]\n",
    "    left=np.max(j - winSize,0)\n",
    "    right=np.min(imgDst.shape[1], j+winSize+1)\n",
    "    top=np.max(i - winSize, 0)\n",
    "    bottom = np.min(imgDst.shape[0], i + winSize+1)\n",
    "    \n",
    "    return imgDst[top:bottom, left:right]"
   ]
  },
  {
   "cell_type": "code",
   "execution_count": null,
   "metadata": {},
   "outputs": [],
   "source": [
    "def testGetNeighborhoodWindow():\n",
    "    mask = np.zeros((51,51), np.uint8)\n",
    "    mask[11:31, 11:31]=1\n",
    "    \n",
    "    roi = getNeighborhoodWindow([0,0], imgDst, 3)\n",
    "    if roi.shape != (3, 3):\n",
    "        print(\"Error: testGetNeighborhoodWindow\")\n",
    "        return False\n",
    "    else:\n",
    "        return True\n",
    "    \n",
    "testGetNeighborhoodWindow()"
   ]
  },
  {
   "cell_type": "code",
   "execution_count": null,
   "metadata": {},
   "outputs": [],
   "source": []
  }
 ],
 "metadata": {
  "kernelspec": {
   "display_name": "Python 3.9.0 ('pytorch')",
   "language": "python",
   "name": "python3"
  },
  "language_info": {
   "codemirror_mode": {
    "name": "ipython",
    "version": 3
   },
   "file_extension": ".py",
   "mimetype": "text/x-python",
   "name": "python",
   "nbconvert_exporter": "python",
   "pygments_lexer": "ipython3",
   "version": "3.9.0"
  },
  "vscode": {
   "interpreter": {
    "hash": "5fa485602c52cb650e9fd6e1dea04670aadbfae9b81036a1375f65e864b997c0"
   }
  }
 },
 "nbformat": 4,
 "nbformat_minor": 2
}
